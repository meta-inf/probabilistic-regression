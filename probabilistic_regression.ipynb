{
 "cells": [
  {
   "cell_type": "code",
   "execution_count": 45,
   "metadata": {},
   "outputs": [],
   "source": [
    "import numpy as np\n",
    "import jax \n",
    "import optax\n",
    "import haiku as hk\n",
    "import matplotlib.pyplot as plt\n",
    "import seaborn as sns\n",
    "sns.reset_defaults()\n",
    "sns.set_context(context='talk',font_scale=1.0)\n",
    "\n",
    "\n",
    "import utils"
   ]
  },
  {
   "cell_type": "markdown",
   "metadata": {},
   "source": [
    "## Generate Data"
   ]
  },
  {
   "cell_type": "code",
   "execution_count": 8,
   "metadata": {},
   "outputs": [],
   "source": [
    "def load_dataset(x_range, b0, w0, n=150, n_tst=150):\n",
    "    np.random.seed(43)\n",
    "\n",
    "    def s(x):\n",
    "        g = (x - x_range[0]) / (x_range[1] - x_range[0])\n",
    "        return 3 * (0.25 + g**2.)\n",
    "\n",
    "    x = (x_range[1] - x_range[0]) * np.random.rand(n) + x_range[0]\n",
    "    eps = np.random.randn(n) * s(x)\n",
    "    y = (w0 * x * (1. + np.sin(x)) + b0) + eps\n",
    "    x = x[..., np.newaxis]\n",
    "    x_tst = np.linspace(*x_range, num=n_tst).astype(np.float32)\n",
    "    x_tst = x_tst[..., np.newaxis]\n",
    "    return y, x, x_tst\n",
    "\n",
    "def dataset(x, y, batch_size):\n",
    "    ids = np.arange(len(x))\n",
    "    while True:\n",
    "        ids = np.random.choice(ids, batch_size, False)\n",
    "        yield x[ids], y[ids]\n",
    "        \n",
    "w0 = 0.125\n",
    "b0 = 5.\n",
    "x_range = [-20, 60]\n",
    "batch_size = 32\n",
    "y, x, x_tst = load_dataset(x_range, b0, w0)\n",
    "data = iter(dataset(x, y, batch_size))"
   ]
  },
  {
   "cell_type": "markdown",
   "metadata": {},
   "source": [
    "## Plotting"
   ]
  },
  {
   "cell_type": "code",
   "execution_count": 46,
   "metadata": {},
   "outputs": [],
   "source": [
    "def plot(x_range, x, y, x_tst, yhats):\n",
    "    plt.figure(figsize=[15, 4.0], dpi= 100)  # inches\n",
    "    plt.plot(x, y, 'b.', label='observed')\n",
    "\n",
    "    avgm = np.zeros_like(x_tst[..., 0])\n",
    "    for i, yhat in enumerate(yhats):\n",
    "        m = np.squeeze(yhat.mean())\n",
    "        s = np.squeeze(yhat.stddev())\n",
    "        if i < 15:\n",
    "            plt.plot(x_tst, m, 'r', label='ensemble means' if i == 0 else None, linewidth=1.)\n",
    "            plt.plot(x_tst, m + 3 * s, 'g', linewidth=0.5, label='ensemble means + 3 ensemble stdev' if i == 0 else None)\n",
    "            plt.plot(x_tst, m - 3 * s, 'g', linewidth=0.5, label='ensemble means - 3 ensemble stdev' if i == 0 else None)\n",
    "        avgm += m\n",
    "    plt.plot(x_tst, avgm / len(yhats), 'r', label='overall mean', linewidth=4)\n",
    "    plt.ylim(-2, 20)\n",
    "    plt.yticks(np.linspace(0, 15, 4)[1:])\n",
    "    plt.xticks(np.linspace(*x_range, num=9))\n",
    "    ax = plt.gca()\n",
    "    ax.xaxis.set_ticks_position('bottom')\n",
    "    ax.yaxis.set_ticks_position('left')\n",
    "    ax.spines['left'].set_position(('data', 0))\n",
    "    ax.spines['top'].set_visible(False)\n",
    "    ax.spines['right'].set_visible(False)\n",
    "    plt.legend(loc='center left', fancybox=True, framealpha=0., bbox_to_anchor=(0.95, 0.5))\n",
    "    plt.tight_layout()"
   ]
  },
  {
   "cell_type": "markdown",
   "metadata": {},
   "source": [
    "## Train with Bayes-by-Backprop"
   ]
  },
  {
   "cell_type": "code",
   "execution_count": 12,
   "metadata": {},
   "outputs": [],
   "source": [
    "from bayes_by_backprop import BayesByBackprop"
   ]
  },
  {
   "cell_type": "code",
   "execution_count": null,
   "metadata": {},
   "outputs": [],
   "source": [
    "model = BayesByBackprop(x[:batch_size], 20, utils.net)\n",
    "opt = optax.flatten(optax.adam(0.01))\n",
    "keys = hk.PRNGSequence(jax.random.PRNGKey(42))\n",
    "\n",
    "@jax.jit\n",
    "def update(x, y, params, key, opt_state):\n",
    "    grads = model.update_step(params, key, x, y)\n",
    "    updates, new_opt_state = opt.update(grads, opt_state)\n",
    "    new_params = optax.apply_updates(params, updates)\n",
    "    return new_params, new_opt_state\n",
    "\n",
    "opt_state = opt.init(model.params)\n",
    "\n",
    "for step in range(100000):\n",
    "    model.params, opt_state = update(*next(data), model.params, next(keys),\n",
    "                                 opt_state)\n",
    "yhats_bbb = model.predict(x_tst)\n",
    "plot(x_range, x, y, x_tst, yhats_bbb)"
   ]
  },
  {
   "cell_type": "markdown",
   "metadata": {},
   "source": [
    "## Train with Functional Particle Optimization"
   ]
  },
  {
   "cell_type": "code",
   "execution_count": 48,
   "metadata": {},
   "outputs": [],
   "source": [
    "from f_povi import FunctionalParticleOptimization"
   ]
  },
  {
   "cell_type": "code",
   "execution_count": null,
   "metadata": {},
   "outputs": [],
   "source": [
    "model = FunctionalParticleOptimization(x[:batch_size], 20, utils.net)\n",
    "opt = optax.flatten(optax.adam(0.01))\n",
    "keys = hk.PRNGSequence(jax.random.PRNGKey(42))\n",
    "\n",
    "@jax.jit\n",
    "def update(x, y, params, key, opt_state):\n",
    "    grads = model.update_step(params, key, x, y)\n",
    "    updates, new_opt_state = opt.update(grads, opt_state)\n",
    "    new_params = optax.apply_updates(params, updates)\n",
    "    return new_params, new_opt_state\n",
    "\n",
    "opt_state = opt.init(model.params)\n",
    "\n",
    "for step in range(1000):\n",
    "    model.params, opt_state = update(*next(data), model.params, next(keys),\n",
    "                                     opt_state)\n",
    "yhats_fpovi = model.predict(x_tst)\n",
    "plot(x_range, x, y, x_tst, yhats_fpovi)"
   ]
  }
 ],
 "metadata": {
  "kernelspec": {
   "display_name": "jax-dreamer",
   "language": "python",
   "name": "jax-dreamer"
  },
  "language_info": {
   "codemirror_mode": {
    "name": "ipython",
    "version": 3
   },
   "file_extension": ".py",
   "mimetype": "text/x-python",
   "name": "python",
   "nbconvert_exporter": "python",
   "pygments_lexer": "ipython3",
   "version": "3.7.11"
  }
 },
 "nbformat": 4,
 "nbformat_minor": 2
}
